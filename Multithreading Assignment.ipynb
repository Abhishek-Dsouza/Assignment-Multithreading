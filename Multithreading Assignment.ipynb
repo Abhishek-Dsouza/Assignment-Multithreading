{
 "cells": [
  {
   "cell_type": "markdown",
   "id": "fa3f5c99-78a5-4b23-ba35-45b79ee8a7e3",
   "metadata": {},
   "source": [
    "# Assignment Multithreading"
   ]
  },
  {
   "cell_type": "markdown",
   "id": "5b472b70-9bcf-41d3-bd75-23bd96cc90ea",
   "metadata": {},
   "source": [
    "## Q1. What is multithreading in python? Why is it used? Name the module used to handle threads in python.\n",
    "### Answer:-\n",
    "### Multithreading in Python is a technique used to execute multiple threads (i.e., independent sequences of instructions) simultaneously within a single process. Threads are lightweight and can be used to perform tasks in parallel, thereby improving the performance of the application.\n",
    "\n",
    "### Multithreading is used in Python for several reasons, such as:\n",
    "\n",
    "### To improve the responsiveness of an application by allowing it to perform multiple tasks simultaneously.\n",
    "### To improve the performance of an application by utilizing the available hardware resources efficiently.\n",
    "### To simplify the implementation of complex applications by dividing them into smaller, more manageable tasks that can be executed concurrently.\n",
    "### The threading module in Python is used to handle threads. This module provides a high-level interface for creating and working with threads. It allows you to create, start, and stop threads, and also provides synchronization primitives such as locks, semaphores, and condition variables to help coordinate the activities of multiple threads. The threading module is part of the Python standard library, so it is available on all platforms where Python is supported."
   ]
  },
  {
   "cell_type": "markdown",
   "id": "08640332-1ed2-4e8e-8c61-132ca5b1e905",
   "metadata": {},
   "source": [
    "## Q2. why threading module used? rite the use of the following functions\n",
    "1. activeCount()\n",
    "2. currentThread()\n",
    "3. enumerate()\n",
    "### Answer:-\n",
    "### The threading module in Python is used for implementing multithreading in Python programs. It provides a way to create and manage threads in Python. Here are some of the main use cases for the threading module:\n",
    "\n",
    "### Parallelism: The threading module allows you to execute multiple tasks simultaneously, thus making use of multiple CPUs and cores available on a machine, which can result in faster execution times.\n",
    "\n",
    "### Responsiveness: By using threads, you can make a program more responsive, as long-running or blocking operations can be executed in separate threads, leaving the main thread free to respond to user input or other events.\n",
    "\n",
    "### Simplification: Threading can help simplify the implementation of complex applications by dividing them into smaller, more manageable tasks that can be executed concurrently.\n",
    "\n",
    "### Now, let's take a look at the following functions provided by the threading module:\n",
    "\n",
    "### activeCount(): This function returns the number of Thread objects that are currently active (i.e., started and not yet terminated).\n",
    "\n",
    "### currentThread(): This function returns a reference to the Thread object representing the current thread.\n",
    "\n",
    "### enumerate(): This function returns a list of all Thread objects that are currently active. If the group argument is specified, it returns a list of all Thread objects that belong to the specified ThreadGroup.\n",
    "\n",
    "### These functions are helpful for managing and debugging threads in a Python program. For example, activeCount() can be used to check how many threads are currently running, while currentThread() can be used to access the current thread object and manipulate it, and enumerate() can be used to get a list of all active threads and their attributes for debugging purposes."
   ]
  },
  {
   "cell_type": "markdown",
   "id": "131a1d23-49b9-4560-bba2-45fbe21d89af",
   "metadata": {},
   "source": [
    "## Q2. 3. Explain the following functions\n",
    "1. run()\n",
    "2. start()\n",
    "3. join()\n",
    "4. isAlive()\n",
    "\n",
    "### Answer:-\n",
    "### In the threading module of Python, the Thread class provides several functions to manage and control threads. Here are the explanations of the following four functions:\n",
    "\n",
    "### run(): This function represents the entry point of a thread. It contains the code that will be executed when the thread starts. You can override this function in a subclass of Thread to provide custom behavior.\n",
    "\n",
    "### start(): This function is used to start a thread by calling the run() method of the Thread object in a separate thread of control. When the start() function is called, a new thread of control is created and the run() method of the Thread object is called in that new thread.\n",
    "\n",
    "### join(): This function is used to wait for a thread to terminate. When the join() function is called on a Thread object, the calling thread will block until the thread represented by the Thread object terminates.\n",
    "\n",
    "### isAlive(): This function is used to check whether a thread is alive or not. It returns True if the thread is currently running or False otherwise.\n",
    "\n",
    "### In summary, the run() function contains the code that will be executed when the thread starts. The start() function is used to start a thread, the join() function is used to wait for a thread to terminate, and the isAlive() function is used to check whether a thread is running or not."
   ]
  },
  {
   "cell_type": "markdown",
   "id": "b405f90d-c3e4-4cdb-8a54-9c205aaaab37",
   "metadata": {},
   "source": [
    "## Q4. rite a python program to create two threads. Thread one must print the list of squares and thread two must print the list of cubes.\n",
    "### Answer:-\n"
   ]
  },
  {
   "cell_type": "code",
   "execution_count": 2,
   "id": "d0448630-5dc3-423d-bd48-143bc67df6c2",
   "metadata": {},
   "outputs": [
    {
     "name": "stdout",
     "output_type": "stream",
     "text": [
      "Square of 1 is 1\n",
      "Square of 2 is 4\n",
      "Square of 3 is 9\n",
      "Square of 4 is 16\n",
      "Square of 5 is 25\n",
      "Square of 6 is 36\n",
      "Square of 7 is 49\n",
      "Square of 8 is 64\n",
      "Square of 9 is 81\n",
      "Square of 10 is 100\n",
      "Cube of 1 is 1\n",
      "Cube of 2 is 8\n",
      "Cube of 3 is 27\n",
      "Cube of 4 is 64\n",
      "Cube of 5 is 125\n",
      "Cube of 6 is 216\n",
      "Cube of 7 is 343\n",
      "Cube of 8 is 512\n",
      "Cube of 9 is 729\n",
      "Cube of 10 is 1000\n",
      "Finished\n"
     ]
    }
   ],
   "source": [
    "import threading\n",
    "\n",
    "def print_squares():\n",
    "    for i in range(1, 11):\n",
    "        print(f\"Square of {i} is {i*i}\")\n",
    "\n",
    "def print_cubes():\n",
    "    for i in range(1, 11):\n",
    "        print(f\"Cube of {i} is {i*i*i}\")\n",
    "\n",
    "t1 = threading.Thread(target=print_squares)\n",
    "t2 = threading.Thread(target=print_cubes)\n",
    "\n",
    "t1.start()\n",
    "t2.start()\n",
    "\n",
    "t1.join()\n",
    "t2.join()\n",
    "\n",
    "print(\"Finished\")\n"
   ]
  },
  {
   "cell_type": "markdown",
   "id": "f1de009c-2540-4c9e-b079-e4c907e5e27c",
   "metadata": {},
   "source": [
    "## Q5. State advantages and disadvantages of multithreading.\n",
    "### Answer:-\n",
    "### Multithreading is a programming technique that involves the use of multiple threads of execution within a single process. Here are some advantages and disadvantages of multithreading:\n",
    "\n",
    "## Advantages:\n",
    "\n",
    "### Improved performance: Multithreading can improve the performance of a program by allowing multiple tasks to execute concurrently.\n",
    "\n",
    "### Increased responsiveness: Multithreading can improve the responsiveness of a program by allowing it to continue processing user input or other events while one or more threads perform long-running or blocking operations.\n",
    "\n",
    "### Simplification of complex tasks: Multithreading can simplify the implementation of complex tasks by dividing them into smaller, more manageable subtasks that can be executed concurrently.\n",
    "\n",
    "### Better resource utilization: Multithreading can make better use of available resources, such as CPU and memory, by allowing multiple threads to execute simultaneously.\n",
    "\n",
    "## Disadvantages:\n",
    "\n",
    "### Increased complexity: Multithreading can increase the complexity of a program by introducing synchronization and coordination issues that need to be carefully managed to prevent race conditions, deadlocks, and other concurrency-related problems.\n",
    "\n",
    "### Debugging difficulties: Multithreaded programs can be more difficult to debug than single-threaded programs, as threads can interact in complex and unpredictable ways.\n",
    "\n",
    "### Overhead: Multithreading can introduce additional overhead due to the need to manage thread synchronization, coordination, and communication.\n",
    "\n",
    "### Resource contention: Multithreading can result in resource contention issues, where multiple threads compete for the same resources, leading to reduced performance or deadlock."
   ]
  },
  {
   "cell_type": "markdown",
   "id": "4b4cba04-e021-49d9-b940-f0f2f4958c6f",
   "metadata": {},
   "source": [
    "## Q6. Explain deadlocks and race conditions.\n",
    "### Answer:-\n",
    "### Deadlocks and race conditions are two common problems that can occur in concurrent programs that use multiple threads of execution.\n",
    "\n",
    "### Deadlocks: A deadlock is a situation in which two or more threads are blocked waiting for each other to release resources that they need to proceed. This can occur when two threads hold locks on different resources, but each thread is also waiting for the other thread to release the resource it needs. As a result, both threads are blocked and unable to proceed, leading to a deadlock. Deadlocks can be difficult to detect and resolve, as they often involve complex interactions between multiple threads.\n",
    "\n",
    "### Race conditions: A race condition is a situation in which the behavior of a program depends on the relative timing or ordering of events that occur in different threads. This can occur when two or more threads access shared resources or variables concurrently without proper synchronization. The behavior of the program may depend on which thread accesses the resource or variable first, leading to unpredictable or incorrect results. Race conditions can also be difficult to detect and resolve, as they often depend on subtle timing or ordering issues that may be difficult to reproduce or debug.\n",
    "\n",
    "### In summary, deadlocks and race conditions are two common problems that can occur in concurrent programs. Deadlocks occur when two or more threads are blocked waiting for each other to release resources, while race conditions occur when the behavior of a program depends on the relative timing or ordering of events that occur in different threads. Both problems can be difficult to detect and resolve, and require careful management of thread synchronization and coordination to prevent them from occurring."
   ]
  },
  {
   "cell_type": "code",
   "execution_count": null,
   "id": "0cdfcbb5-8ba9-4fc8-91b0-ae4f543c6ebb",
   "metadata": {},
   "outputs": [],
   "source": []
  }
 ],
 "metadata": {
  "kernelspec": {
   "display_name": "Python 3 (ipykernel)",
   "language": "python",
   "name": "python3"
  },
  "language_info": {
   "codemirror_mode": {
    "name": "ipython",
    "version": 3
   },
   "file_extension": ".py",
   "mimetype": "text/x-python",
   "name": "python",
   "nbconvert_exporter": "python",
   "pygments_lexer": "ipython3",
   "version": "3.10.8"
  }
 },
 "nbformat": 4,
 "nbformat_minor": 5
}
